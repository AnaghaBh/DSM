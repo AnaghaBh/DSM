{
 "cells": [
  {
   "cell_type": "markdown",
   "id": "426b7d6b",
   "metadata": {},
   "source": [
    "# Sentiment Analysis"
   ]
  },
  {
   "cell_type": "markdown",
   "id": "8a5b18c6",
   "metadata": {},
   "source": [
    "# 1. Imports"
   ]
  },
  {
   "cell_type": "code",
   "execution_count": null,
   "id": "fb68637d",
   "metadata": {},
   "outputs": [],
   "source": [
    "#basic libraries for linear algebra and data procesing\n",
    "import numpy as np\n",
    "import pandas as pd\n",
    "\n",
    "#visualization\n",
    "import matplotlib.pyplot as plt\n",
    "import seaborn as sns\n",
    "\n",
    "#sentiment analysis\n",
    "from nltk.sentiment.vader import SentimentIntensityAnalyzer\n",
    "\n",
    "#comparison analysis metrics\n",
    "from sklearn.metrics import accuracy_score,classification_report,confusion_matrix,ConfusionMatrixDisplay\n",
    "\n",
    "#time and warnings\n",
    "import time\n",
    "import warnings\n",
    "\n",
    "#settings\n",
    "warnings.filterwarnings(\"ignore\")\n",
    "sns.set_context('poster', font_scale=0.5)"
   ]
  },
  {
   "cell_type": "markdown",
   "id": "8cc91654",
   "metadata": {},
   "source": [
    "# 2. Data"
   ]
  },
  {
   "cell_type": "code",
   "execution_count": 2,
   "id": "aefe7d6a",
   "metadata": {},
   "outputs": [],
   "source": [
    "#loading the review dataset\n",
    "review = pd.read_csv('C:/Users/Anagha/Downloads/cleaned_review_food_neo4j.csv')"
   ]
  },
  {
   "cell_type": "code",
   "execution_count": 3,
   "id": "783fe49f",
   "metadata": {},
   "outputs": [],
   "source": [
    "#filtering out the stars and text columns\n",
    "reviews = review[['text', 'stars']].reset_index().drop(columns='index')"
   ]
  },
  {
   "cell_type": "code",
   "execution_count": 4,
   "id": "0b629ad6",
   "metadata": {},
   "outputs": [
    {
     "name": "stdout",
     "output_type": "stream",
     "text": [
      "(330434, 2)\n"
     ]
    },
    {
     "data": {
      "text/html": [
       "<div>\n",
       "<style scoped>\n",
       "    .dataframe tbody tr th:only-of-type {\n",
       "        vertical-align: middle;\n",
       "    }\n",
       "\n",
       "    .dataframe tbody tr th {\n",
       "        vertical-align: top;\n",
       "    }\n",
       "\n",
       "    .dataframe thead th {\n",
       "        text-align: right;\n",
       "    }\n",
       "</style>\n",
       "<table border=\"1\" class=\"dataframe\">\n",
       "  <thead>\n",
       "    <tr style=\"text-align: right;\">\n",
       "      <th></th>\n",
       "      <th>text</th>\n",
       "      <th>stars</th>\n",
       "    </tr>\n",
       "  </thead>\n",
       "  <tbody>\n",
       "    <tr>\n",
       "      <th>0</th>\n",
       "      <td>My boyfriend and I tried this deli for the fir...</td>\n",
       "      <td>5.0</td>\n",
       "    </tr>\n",
       "    <tr>\n",
       "      <th>1</th>\n",
       "      <td>Very impressed with this place! The food was a...</td>\n",
       "      <td>5.0</td>\n",
       "    </tr>\n",
       "    <tr>\n",
       "      <th>2</th>\n",
       "      <td>This is the best location EVER. The donuts are...</td>\n",
       "      <td>5.0</td>\n",
       "    </tr>\n",
       "    <tr>\n",
       "      <th>3</th>\n",
       "      <td>I will not return to this location. I contacte...</td>\n",
       "      <td>1.0</td>\n",
       "    </tr>\n",
       "    <tr>\n",
       "      <th>4</th>\n",
       "      <td>This place just opened up near rivers edge apa...</td>\n",
       "      <td>5.0</td>\n",
       "    </tr>\n",
       "  </tbody>\n",
       "</table>\n",
       "</div>"
      ],
      "text/plain": [
       "                                                text  stars\n",
       "0  My boyfriend and I tried this deli for the fir...    5.0\n",
       "1  Very impressed with this place! The food was a...    5.0\n",
       "2  This is the best location EVER. The donuts are...    5.0\n",
       "3  I will not return to this location. I contacte...    1.0\n",
       "4  This place just opened up near rivers edge apa...    5.0"
      ]
     },
     "execution_count": 4,
     "metadata": {},
     "output_type": "execute_result"
    }
   ],
   "source": [
    "print(reviews.shape)\n",
    "reviews.head()"
   ]
  },
  {
   "cell_type": "markdown",
   "id": "84841dc7",
   "metadata": {},
   "source": [
    "# 3. Sentiment Analysis"
   ]
  },
  {
   "cell_type": "code",
   "execution_count": 5,
   "id": "1f44756a",
   "metadata": {},
   "outputs": [
    {
     "data": {
      "text/plain": [
       "<Axes: title={'center': 'Number of values per rating'}, ylabel='stars'>"
      ]
     },
     "execution_count": 5,
     "metadata": {},
     "output_type": "execute_result"
    },
    {
     "data": {
      "image/png": "[encoded data removed]",
      "text/plain": [
       "<Figure size 1000x600 with 1 Axes>"
      ]
     },
     "metadata": {},
     "output_type": "display_data"
    }
   ],
   "source": [
    "#number of values per star rating\n",
    "reviews['stars'].value_counts().plot.barh(figsize = (10,6), title = 'Number of values per rating')"
   ]
  },
  {
   "cell_type": "markdown",
   "id": "f648aa27",
   "metadata": {},
   "source": [
    "## 3.1 Testing VADER with a random review"
   ]
  },
  {
   "cell_type": "code",
   "execution_count": 6,
   "id": "c46f6193",
   "metadata": {},
   "outputs": [],
   "source": [
    "#creating an object from the VADER\n",
    "rid = SentimentIntensityAnalyzer()"
   ]
  },
  {
   "cell_type": "markdown",
   "id": "e5b1bda2",
   "metadata": {},
   "source": [
    "**Test 1**"
   ]
  },
  {
   "cell_type": "code",
   "execution_count": 7,
   "id": "8aa4adf8",
   "metadata": {},
   "outputs": [
    {
     "name": "stdout",
     "output_type": "stream",
     "text": [
      "VADER polarity score:  {'neg': 0.054, 'neu': 0.835, 'pos': 0.112, 'compound': 0.4337}\n",
      "Actual target star:  5.0\n",
      "Actual review text: We have decided to try all the gourmet pizzas! So far we have had: Grandmas Pizza 5 Four Cheese 5 Philly Steak and Cheese 4.5  (I personally dont care for red onions) Chicken Alfredo 4  (this would probably taste better fresh out of their over pipping hot)\n"
     ]
    }
   ],
   "source": [
    "test_rid_scores = rid.polarity_scores(reviews.loc[6543]['text'])\n",
    "test_target_star = reviews.loc[6543]['stars']\n",
    "\n",
    "print('VADER polarity score: ', test_rid_scores)\n",
    "print('Actual target star: ', test_target_star)\n",
    "print('Actual review text:', reviews.text[6543])"
   ]
  },
  {
   "cell_type": "markdown",
   "id": "6b5b2002",
   "metadata": {},
   "source": [
    "**Test 2**"
   ]
  },
  {
   "cell_type": "code",
   "execution_count": 8,
   "id": "cdde35c0",
   "metadata": {},
   "outputs": [
    {
     "name": "stdout",
     "output_type": "stream",
     "text": [
      "VADER polarity score:  {'neg': 0.033, 'neu': 0.849, 'pos': 0.118, 'compound': 0.9098}\n",
      "Actual target star:  5.0\n",
      "Actual review text: Stopped in for the first time on Superbowl Sunday to have a healthy breakfast, since I may be eating some unhealthy food later today for the big game.  It is bright and clean inside, with plenty of room for social distancing. Right now there is just standing room and some benches inside. The menu has everything from smoothies, juices, acai bowls to power potions and energy bites to even salads. They do have a rewards program. You get $2 off your first purchase when you enroll. Simply enter your phone number and you will get a text to finish filling out information. Youll get 1pt for every $1 spent. The next reward is $6 off when you get to 150pts.  We got the the Peanut Acai Bowl and the Choco Acai Bowl. Both had quality toppings and were filling. Im looking forward to trying more on the menu!\n"
     ]
    }
   ],
   "source": [
    "test2_rid_scores = rid.polarity_scores(reviews.loc[183761]['text'])\n",
    "test2_target_star = reviews.loc[183761]['stars']\n",
    "\n",
    "print('VADER polarity score: ', test2_rid_scores)\n",
    "print('Actual target star: ', test2_target_star)\n",
    "print('Actual review text:', reviews.text[183761])"
   ]
  },
  {
   "cell_type": "markdown",
   "id": "cb1b2798",
   "metadata": {},
   "source": [
    "**Test 3**"
   ]
  },
  {
   "cell_type": "code",
   "execution_count": 9,
   "id": "3b2948c1",
   "metadata": {},
   "outputs": [
    {
     "name": "stdout",
     "output_type": "stream",
     "text": [
      "VADER polarity score:  {'neg': 0.013, 'neu': 0.887, 'pos': 0.099, 'compound': 0.9047}\n",
      "Actual target star:  4.0\n",
      "Actual review text: Best breakfast bagel Ive had. So simple yet so good. Only giving it 4 stars because its chaos in there. If you order online and you dont remind them 3 times of your order number, itll sit on the counter until youre the last one in there waiting for it to be called out. (40 minutes)   They need a better take out system, an organized take out system, instead of taking 100 orders at once, they need to slow down and take a breath. Also, I will mention that during the height of covid it was still rather busy and they didnt regulate how many people could stand inside this tiny building... so you had at least 20 people standing in there at any given time and if youve ever driven past or been inside this place... you already know what Im talking about. Packed like sardines. Just an ode to how good they are but they definitely need a stern voice in there to command the kitchen and the waiting area.\n"
     ]
    }
   ],
   "source": [
    "test3_rid_scores = rid.polarity_scores(reviews.loc[92701]['text'])\n",
    "test3_target_star = reviews.loc[92701]['stars']\n",
    "\n",
    "print('VADER polarity score: ', test3_rid_scores)\n",
    "print('Actual target star: ', test3_target_star)\n",
    "print('Actual review text:', reviews.text[92701])"
   ]
  },
  {
   "cell_type": "markdown",
   "id": "a12b7c81",
   "metadata": {},
   "source": [
    "## 3.2 Computing polarity scores using compound scores"
   ]
  },
  {
   "cell_type": "code",
   "execution_count": 10,
   "id": "121499dc",
   "metadata": {},
   "outputs": [],
   "source": [
    "reviews['label'] = reviews['stars'].apply(\n",
    "    lambda s: 'positive' if s > 3 else 'negative'\n",
    ")"
   ]
  },
  {
   "cell_type": "code",
   "execution_count": 11,
   "id": "b1935bd7",
   "metadata": {},
   "outputs": [
    {
     "name": "stdout",
     "output_type": "stream",
     "text": [
      "CPU times: total: 3min 48s\n",
      "Wall time: 3min 50s\n"
     ]
    },
    {
     "data": {
      "text/html": [
       "<div>\n",
       "<style scoped>\n",
       "    .dataframe tbody tr th:only-of-type {\n",
       "        vertical-align: middle;\n",
       "    }\n",
       "\n",
       "    .dataframe tbody tr th {\n",
       "        vertical-align: top;\n",
       "    }\n",
       "\n",
       "    .dataframe thead th {\n",
       "        text-align: right;\n",
       "    }\n",
       "</style>\n",
       "<table border=\"1\" class=\"dataframe\">\n",
       "  <thead>\n",
       "    <tr style=\"text-align: right;\">\n",
       "      <th></th>\n",
       "      <th>text</th>\n",
       "      <th>stars</th>\n",
       "      <th>label</th>\n",
       "      <th>polarity_scores</th>\n",
       "      <th>compound_score</th>\n",
       "      <th>compound_label</th>\n",
       "    </tr>\n",
       "  </thead>\n",
       "  <tbody>\n",
       "    <tr>\n",
       "      <th>0</th>\n",
       "      <td>My boyfriend and I tried this deli for the fir...</td>\n",
       "      <td>5.0</td>\n",
       "      <td>positive</td>\n",
       "      <td>{'neg': 0.0, 'neu': 0.828, 'pos': 0.172, 'comp...</td>\n",
       "      <td>0.9168</td>\n",
       "      <td>positive</td>\n",
       "    </tr>\n",
       "    <tr>\n",
       "      <th>1</th>\n",
       "      <td>Very impressed with this place! The food was a...</td>\n",
       "      <td>5.0</td>\n",
       "      <td>positive</td>\n",
       "      <td>{'neg': 0.0, 'neu': 0.701, 'pos': 0.299, 'comp...</td>\n",
       "      <td>0.9519</td>\n",
       "      <td>positive</td>\n",
       "    </tr>\n",
       "    <tr>\n",
       "      <th>2</th>\n",
       "      <td>This is the best location EVER. The donuts are...</td>\n",
       "      <td>5.0</td>\n",
       "      <td>positive</td>\n",
       "      <td>{'neg': 0.0, 'neu': 0.711, 'pos': 0.289, 'comp...</td>\n",
       "      <td>0.9153</td>\n",
       "      <td>positive</td>\n",
       "    </tr>\n",
       "    <tr>\n",
       "      <th>3</th>\n",
       "      <td>I will not return to this location. I contacte...</td>\n",
       "      <td>1.0</td>\n",
       "      <td>negative</td>\n",
       "      <td>{'neg': 0.044, 'neu': 0.879, 'pos': 0.077, 'co...</td>\n",
       "      <td>0.4323</td>\n",
       "      <td>positive</td>\n",
       "    </tr>\n",
       "    <tr>\n",
       "      <th>4</th>\n",
       "      <td>This place just opened up near rivers edge apa...</td>\n",
       "      <td>5.0</td>\n",
       "      <td>positive</td>\n",
       "      <td>{'neg': 0.0, 'neu': 0.789, 'pos': 0.211, 'comp...</td>\n",
       "      <td>0.9816</td>\n",
       "      <td>positive</td>\n",
       "    </tr>\n",
       "  </tbody>\n",
       "</table>\n",
       "</div>"
      ],
      "text/plain": [
       "                                                text  stars     label  \\\n",
       "0  My boyfriend and I tried this deli for the fir...    5.0  positive   \n",
       "1  Very impressed with this place! The food was a...    5.0  positive   \n",
       "2  This is the best location EVER. The donuts are...    5.0  positive   \n",
       "3  I will not return to this location. I contacte...    1.0  negative   \n",
       "4  This place just opened up near rivers edge apa...    5.0  positive   \n",
       "\n",
       "                                     polarity_scores  compound_score  \\\n",
       "0  {'neg': 0.0, 'neu': 0.828, 'pos': 0.172, 'comp...          0.9168   \n",
       "1  {'neg': 0.0, 'neu': 0.701, 'pos': 0.299, 'comp...          0.9519   \n",
       "2  {'neg': 0.0, 'neu': 0.711, 'pos': 0.289, 'comp...          0.9153   \n",
       "3  {'neg': 0.044, 'neu': 0.879, 'pos': 0.077, 'co...          0.4323   \n",
       "4  {'neg': 0.0, 'neu': 0.789, 'pos': 0.211, 'comp...          0.9816   \n",
       "\n",
       "  compound_label  \n",
       "0       positive  \n",
       "1       positive  \n",
       "2       positive  \n",
       "3       positive  \n",
       "4       positive  "
      ]
     },
     "execution_count": 11,
     "metadata": {},
     "output_type": "execute_result"
    }
   ],
   "source": [
    "#creating columns in the dataframe that contain relevant data from the polarity scores\n",
    "reviews['polarity_scores'] = reviews['text'].apply(lambda text: rid.polarity_scores(str(text)))\n",
    "reviews['compound_score']  = reviews['polarity_scores'].apply(lambda score_dict: score_dict['compound'])\n",
    "reviews['compound_label'] = reviews['compound_score'].apply(\n",
    "    lambda s: 'positive' if s > 0 else 'negative'\n",
    ")\n",
    "reviews.head()"
   ]
  },
  {
   "cell_type": "markdown",
   "id": "cd4a87b3",
   "metadata": {},
   "source": [
    "## 3.3 Comparison Analysis of compound score and original label"
   ]
  },
  {
   "cell_type": "code",
   "execution_count": 12,
   "id": "fcde878c",
   "metadata": {},
   "outputs": [
    {
     "name": "stdout",
     "output_type": "stream",
     "text": [
      "Accuracy score:  0.8900022394789883\n"
     ]
    }
   ],
   "source": [
    "print('Accuracy score: ', accuracy_score(reviews.label, reviews.compound_label))"
   ]
  },
  {
   "cell_type": "code",
   "execution_count": 13,
   "id": "73c491c2",
   "metadata": {},
   "outputs": [
    {
     "name": "stdout",
     "output_type": "stream",
     "text": [
      "Classification Report:\n",
      "               precision    recall  f1-score   support\n",
      "\n",
      "    negative       0.88      0.54      0.67     67576\n",
      "    positive       0.89      0.98      0.93    262858\n",
      "\n",
      "    accuracy                           0.89    330434\n",
      "   macro avg       0.88      0.76      0.80    330434\n",
      "weighted avg       0.89      0.89      0.88    330434\n",
      "\n"
     ]
    }
   ],
   "source": [
    "print('Classification Report:\\n', classification_report(reviews.label, reviews.compound_label))"
   ]
  },
  {
   "cell_type": "code",
   "execution_count": 14,
   "id": "cf822803",
   "metadata": {},
   "outputs": [
    {
     "name": "stdout",
     "output_type": "stream",
     "text": [
      "[[ 36344  31232]\n",
      " [  5115 257743]]\n"
     ]
    }
   ],
   "source": [
    "print(confusion_matrix(reviews.label, reviews.compound_label))"
   ]
  },
  {
   "cell_type": "code",
   "execution_count": 15,
   "id": "9f07d00e",
   "metadata": {},
   "outputs": [
    {
     "data": {
      "text/plain": [
       "<function matplotlib.pyplot.show(close=None, block=None)>"
      ]
     },
     "execution_count": 15,
     "metadata": {},
     "output_type": "execute_result"
    },
    {
     "data": {
      "image/png": "[encoded data removed]",
      "text/plain": [
       "<Figure size 640x480 with 2 Axes>"
      ]
     },
     "metadata": {},
     "output_type": "display_data"
    }
   ],
   "source": [
    "disp = ConfusionMatrixDisplay(\n",
    "    confusion_matrix(reviews.label, reviews.compound_label),\n",
    "    display_labels=['negative', 'positive']\n",
    ")\n",
    "disp.plot()\n",
    "plt.show"
   ]
  }
 ],
 "metadata": {
  "kernelspec": {
   "display_name": "Python 3",
   "language": "python",
   "name": "python3"
  },
  "language_info": {
   "codemirror_mode": {
    "name": "ipython",
    "version": 3
   },
   "file_extension": ".py",
   "mimetype": "text/x-python",
   "name": "python",
   "nbconvert_exporter": "python",
   "pygments_lexer": "ipython3",
   "version": "3.11.0"
  }
 },
 "nbformat": 4,
 "nbformat_minor": 5
}
